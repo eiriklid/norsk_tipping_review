{
 "cells": [
  {
   "cell_type": "code",
   "execution_count": null,
   "id": "b4c0e1e0-c4e2-4f59-94fd-9fa34895ac61",
   "metadata": {},
   "outputs": [],
   "source": [
    "import pandas"
   ]
  },
  {
   "cell_type": "code",
   "execution_count": null,
   "id": "93bb481b-2e26-4521-a095-0756c77da2a8",
   "metadata": {},
   "outputs": [],
   "source": [
    "import pandas as pd\n",
    "from bs4 import BeautifulSoup\n",
    "\n",
    "with open('data/nt_full_060124.html', 'r', encoding='utf-8') as f:\n",
    "\n",
    "    html_content = f.read()\n",
    "\n",
    "    # Parse the HTML content using BeautifulSoup\n",
    "    soup = BeautifulSoup(html_content, 'html.parser')\n",
    "    \n",
    "    # Extract rows\n",
    "    table_content = soup.select_one('tbody.table-content')\n",
    "    # Extracting data for each player\n",
    "data = []\n",
    "for row in table_content.select('tr.hasCaptainsCol'):\n",
    "\n",
    "    name = row.select_one('td.name-cell span').text\n",
    "    position = row.select_one('td.position-cell ft-tooltip')['text']\n",
    "    team = row.select_one('td.team-cell ft-tooltip')['text']\n",
    "    price = row.select_one('td.price-cell').text\n",
    "    ownership_pct = row.select_one('td.selectedBy-cell span.value').text\n",
    "    captain_pct = row.select_one('td.captainedBy-cell span.value').text\n",
    "    points = row.select_one('td.points-cell ft-bubble span').text\n",
    "    \n",
    "    data.append([name, position, team, price, ownership_pct, captain_pct, points])\n",
    "\n",
    "    \n",
    "# Convert data to a pandas DataFrame\n",
    "norsk_tipping = pd.DataFrame(data)\n",
    "\n",
    "print(norsk_tipping)\n"
   ]
  },
  {
   "cell_type": "code",
   "execution_count": null,
   "id": "8ec4a411-4a7f-4fcd-aee3-a7c23165bf33",
   "metadata": {},
   "outputs": [],
   "source": [
    "norsk_tipping.columns = [\"Name\", \"Position\", \"Team\", \"Price\", \"Ownership\", \"Captain%\", \"PointsRound\"]"
   ]
  },
  {
   "cell_type": "code",
   "execution_count": null,
   "id": "8650dee7-677b-41b3-8dbd-fb7d6b3ce464",
   "metadata": {},
   "outputs": [],
   "source": [
    "norsk_tipping[\"Price\"] = norsk_tipping[\"Price\"].str.extract(\"^[+-]?([0-9]+([.][0-9]*)?|[.][0-9]+)M\")[0]\n",
    "norsk_tipping[\"Price\"] = pd.to_numeric(norsk_tipping[\"Price\"])"
   ]
  },
  {
   "cell_type": "code",
   "execution_count": null,
   "id": "0372a1be-d5b4-4142-a042-3ef52117af9d",
   "metadata": {},
   "outputs": [],
   "source": [
    "norsk_tipping.sort_values(\"Price\", inplace=True)"
   ]
  },
  {
   "cell_type": "code",
   "execution_count": null,
   "id": "e565e604-847c-43a4-9bfe-d10c261bb9a8",
   "metadata": {},
   "outputs": [],
   "source": [
    "norsk_tipping[\"Surname\"] = norsk_tipping[\"Name\"].str.rsplit(\". \", n=1, expand=True).fillna(\"\").apply(lambda x : max(x,key=len),axis=1)"
   ]
  },
  {
   "cell_type": "code",
   "execution_count": null,
   "id": "24d8c2ed-5a26-4650-91b2-b40feef83329",
   "metadata": {},
   "outputs": [],
   "source": [
    "norsk_tipping"
   ]
  },
  {
   "cell_type": "markdown",
   "id": "175bfab7-e3c8-4315-94a1-e910795d277a",
   "metadata": {},
   "source": [
    "## Get values from FPL Review"
   ]
  },
  {
   "cell_type": "code",
   "execution_count": null,
   "id": "6b372e97-43f0-4f6b-bc96-534f57ce561a",
   "metadata": {},
   "outputs": [],
   "source": [
    "fplreview = pd.read_csv(\"confidential_data/fplreview_1704915028.csv\")\n",
    "\n",
    "point_columns = [ col for col in fplreview.columns if \"_Pts\" in col]\n",
    "\n",
    "point_columns\n",
    "\n",
    "fplreview[\"Total Points\"] = fplreview[point_columns].sum(axis=1)\n",
    "\n",
    "fplreview.sort_values(\"Total Points\",ascending=False, inplace=True)\n",
    "fplreview"
   ]
  },
  {
   "cell_type": "code",
   "execution_count": null,
   "id": "e81afeaa-fd68-4c73-8090-ad9cbbd1c3e9",
   "metadata": {},
   "outputs": [],
   "source": [
    "norsk_tipping[\"Surname\"].isin(fplreview[\"Name\"].to_list()).value_counts()"
   ]
  },
  {
   "cell_type": "code",
   "execution_count": null,
   "id": "add72b2e-0401-4cb1-8a59-ee9c88155ed4",
   "metadata": {},
   "outputs": [],
   "source": [
    "from unidecode import unidecode\n",
    "\n",
    "fplreview[\"Name\"] = fplreview[\"Name\"].str.rsplit(\".\", n=1, expand=True).fillna(\"\").apply(lambda x : max(x,key=len),axis=1).apply(unidecode)\n",
    "norsk_tipping[\"Surname\"] = norsk_tipping[\"Surname\"].apply(unidecode).str.strip()"
   ]
  },
  {
   "cell_type": "code",
   "execution_count": null,
   "id": "f64dede6-b1e6-48ea-858a-5d6cca8e08b9",
   "metadata": {},
   "outputs": [],
   "source": [
    "mapper = {\"Man City\": \"Manchester City\",\n",
    "          \"Man Utd\": \"Manchester United\",\n",
    "          \"Nott'm Forest\": \"Nottingham Forest\",\n",
    "          \"Sheffield Utd\": \"Sheffield United\",\n",
    "         }"
   ]
  },
  {
   "cell_type": "code",
   "execution_count": null,
   "id": "b51daee6-fa90-4be7-9553-b1749dfce53b",
   "metadata": {},
   "outputs": [],
   "source": [
    "fplreview[\"Team\"] = fplreview.Team.replace(mapper)"
   ]
  },
  {
   "cell_type": "markdown",
   "id": "e639bd3c-eb74-4f09-8cc6-8c16cf1116f1",
   "metadata": {},
   "source": [
    "## Replace any name that is mismatched"
   ]
  },
  {
   "cell_type": "code",
   "execution_count": null,
   "id": "f54d1db7-ddad-4d17-9fa3-a22c963426c2",
   "metadata": {},
   "outputs": [],
   "source": [
    "liverpool = {\"Nunez\": \"Darwin\", \n",
    "             \"Jota\": \"Diogo J\", \n",
    "             \"Diaz\": \"Luis Diaz\", \n",
    "             \"Alisson\": \"Becker\", \n",
    "             \"van Dijk\": \"Virgil\", \n",
    "             \"Alcantara\": \"Thiago\"}\n",
    "\n",
    "man_city = {\"Silva\": \"Bernardo\", \n",
    "            \"Rodri\":\"Rodrigo\", \n",
    "            \"Ederson\": \"Ederson M\", \n",
    "            \"Dias\": \"Ruben\",\n",
    "            \"Ortega\": \"Ortega Moreno\",\n",
    "            \"Gomez\": \"Sergio Gomez\",\n",
    "            \"Nunes\": \"Matheus N\"}\n",
    "\n",
    "aston_villa = {\"Luiz\": \"Douglas Luiz\",\n",
    "                \"Traore\": \"Bertrand Traore\",\n",
    "                \"Torres\": \"Pau\",\n",
    "                \"Moreno\": \"Alex Moreno\",\n",
    "                \"Carlos\": \"Diego Carlos\"}\n",
    "\n",
    "wolves = {\"Hee-chan\": \"Hee Chan\",\n",
    "          \"Silva\": \"Fabio Silva\",\n",
    "          \"Ait Nouri\": \"Ait-Nouri\",\n",
    "          'Sa': \"Jose Sa\",\n",
    "          'Antonio Gomes': \"Toti\",\n",
    "          #'H.Bueno',\n",
    "          #'S.Bueno',\n",
    "          'Traore': \"Boubacar Traore\",\n",
    "          #'Sanderson': \" No entry\",\n",
    "          'Castro': \"Otto\",\n",
    "          'Gomes': \"Joao Gomes\"}\n",
    "\n",
    "fulham = { 'Adarabioyo': \"Tosin\", \n",
    "          'De-Cordova Reid': \"De Cordova-Reid\", \n",
    "          'Traore': \"Adama\", \n",
    "          'Jimenez': \"Raul\", \n",
    "          'Pereira': \"Andreas\"}\n",
    "\n",
    "brighton = {' van Hecke': \"Van Hecke\" , \n",
    "            #'Sima':\"No entry\", \n",
    "            'Pedro': \"Joao Pedro\", \n",
    "            'Fati': \"Ansu Fati\"}\n",
    "\n",
    "spurs = {\n",
    "         'Emerson': \"Royal\", \n",
    "          'van de Ven': \"Van de Ven\", \n",
    "          'Gil': \"Bryan\", \n",
    "          'Porro': \"Pedro Porro\", \n",
    "          'Bentacur': \"Bentancur\"\n",
    "}\n",
    "\n",
    "chelsea = {\n",
    "    'Fernandez': \"Enzo\", \n",
    "    'Washington': \"Deivid\"\n",
    "}\n",
    "\n",
    "everton = {\n",
    "    'Gomes': \"Andre Gomes\", \n",
    "    'Gueye': \"Gana\", \n",
    "    #'Chermiti': \"Not added (yet?)\", \n",
    "    'Alli': \"Dele\"}\n",
    "\n",
    "arsenal = {\n",
    "    \"Vieira\": \"Fabio Vieira\",\n",
    "    \"Partey\": \"Thomas\",\n",
    "    \"Soares\": \"Cedric\"}\n",
    "\n",
    "crystal_palace = {\n",
    "    'Ferguson': \"Nathan Ferguson\", \n",
    "    'Franca': \"Matheus Franca\"}\n",
    "\n",
    "unique = {\"Guimaraes\": \"Bruno G\",\n",
    "          'van de Beek': \"Van de Beek\", \n",
    "          'Bayindir': \"Altay\", \n",
    "          'Mejbri': \"Hannibal\",\n",
    "          \"Hedilazio\": \"Benson\",\n",
    "          \n",
    "          }"
   ]
  },
  {
   "cell_type": "code",
   "execution_count": null,
   "id": "1d6a7642-c611-4879-9d58-cc3bc3f9995d",
   "metadata": {
    "scrolled": true
   },
   "outputs": [],
   "source": [
    "norsk_tipping.loc[norsk_tipping.Team==\"Liverpool\", \"Surname\"] = norsk_tipping.loc[norsk_tipping.Team==\"Liverpool\", \"Surname\"].replace(liverpool)\n",
    "norsk_tipping.loc[norsk_tipping.Team==\"Manchester City\",\"Surname\"] = norsk_tipping.loc[norsk_tipping.Team==\"Manchester City\",\"Surname\"].replace(man_city)\n",
    "norsk_tipping.loc[norsk_tipping.Team==\"Aston Villa\", \"Surname\"] = norsk_tipping.loc[norsk_tipping.Team==\"Aston Villa\", \"Surname\"].replace(aston_villa)\n",
    "norsk_tipping.loc[norsk_tipping.Team==\"Wolves\", \"Surname\"] = norsk_tipping.loc[norsk_tipping.Team==\"Wolves\", \"Surname\"].replace(wolves)\n",
    "norsk_tipping.loc[norsk_tipping.Team==\"Fulham\", \"Surname\"] = norsk_tipping.loc[norsk_tipping.Team==\"Fulham\", \"Surname\"].replace(fulham)\n",
    "norsk_tipping.loc[norsk_tipping.Team==\"Brighton\", \"Surname\"] = norsk_tipping.loc[norsk_tipping.Team==\"Brighton\", \"Surname\"].replace(brighton)\n",
    "norsk_tipping.loc[norsk_tipping.Team==\"Spurs\", \"Surname\"] = norsk_tipping.loc[norsk_tipping.Team==\"Spurs\", \"Surname\"].replace(spurs)\n",
    "norsk_tipping.loc[norsk_tipping.Team==\"Chelsea\", \"Surname\"] = norsk_tipping.loc[norsk_tipping.Team==\"Chelsea\", \"Surname\"].replace(chelsea)\n",
    "norsk_tipping.loc[norsk_tipping.Team==\"Everton\", \"Surname\"] = norsk_tipping.loc[norsk_tipping.Team==\"Everton\", \"Surname\"].replace(everton)\n",
    "norsk_tipping.loc[norsk_tipping.Team==\"Arsenal\", \"Surname\"] = norsk_tipping.loc[norsk_tipping.Team==\"Arsenal\", \"Surname\"].replace(arsenal)\n",
    "norsk_tipping.loc[norsk_tipping.Team==\"Crystal Palace\", \"Surname\"] = norsk_tipping.loc[norsk_tipping.Team==\"Crystal Palace\", \"Surname\"].replace(crystal_palace)\n",
    "\n",
    "norsk_tipping[\"Surname\"] = norsk_tipping[\"Surname\"].replace(unique)"
   ]
  },
  {
   "cell_type": "code",
   "execution_count": null,
   "id": "b8c07fcd-c2df-4500-b3ec-a02d6f385ad3",
   "metadata": {},
   "outputs": [],
   "source": [
    "df = norsk_tipping.merge(fplreview,left_on=[\"Team\", \"Surname\"], right_on=[\"Team\", \"Name\"], how=\"left\",suffixes=(\"_nt\", \"_review\"))"
   ]
  },
  {
   "cell_type": "code",
   "execution_count": null,
   "id": "50fa246c-cb8c-42a3-a73f-e9cf5fb34f4c",
   "metadata": {},
   "outputs": [],
   "source": [
    "df[df.Pos.isna()].Team.value_counts()\n",
    "                "
   ]
  },
  {
   "cell_type": "code",
   "execution_count": null,
   "id": "f7c42ca5-cd21-42e9-95a6-ebef366187ba",
   "metadata": {
    "scrolled": true
   },
   "outputs": [],
   "source": [
    "df[(df.Pos.isna()) & (df.Team == \"Brentford\")]#.Surname.to_list()\n",
    "                "
   ]
  },
  {
   "cell_type": "code",
   "execution_count": null,
   "id": "97286479-b4ba-4789-b4d6-13018f770a14",
   "metadata": {
    "scrolled": true
   },
   "outputs": [],
   "source": [
    "fplreview[fplreview.Team.isin([\"Brentford\"])].head(50).sort_values(\"Name\")"
   ]
  },
  {
   "cell_type": "code",
   "execution_count": null,
   "id": "1da8c0b3-6da6-4776-81b4-b258c2d5e09b",
   "metadata": {},
   "outputs": [],
   "source": [
    "df.sort_values(\"Total Points\",ascending=False).head(50)\n",
    "                "
   ]
  },
  {
   "cell_type": "markdown",
   "id": "36836fe0-18ac-47e3-a6df-1c7103e7eaff",
   "metadata": {},
   "source": [
    "# Top 50 GK"
   ]
  },
  {
   "cell_type": "code",
   "execution_count": null,
   "id": "d89a8f2a-adeb-407b-82c3-7306a9451af3",
   "metadata": {},
   "outputs": [],
   "source": [
    "df[df.Position == \"Keeper\"].sort_values(\"Total Points\",ascending=False).head(50)"
   ]
  },
  {
   "cell_type": "markdown",
   "id": "3ecfe2eb-f535-4e6f-9752-ed7cbab466cb",
   "metadata": {},
   "source": [
    "# Top 50 Defence"
   ]
  },
  {
   "cell_type": "code",
   "execution_count": null,
   "id": "bf0bc88e-aff9-47a2-a3a2-b80411b721b9",
   "metadata": {},
   "outputs": [],
   "source": [
    "df[df.Position == \"Forsvar\"].sort_values(\"Total Points\",ascending=False).head(50)"
   ]
  },
  {
   "cell_type": "code",
   "execution_count": null,
   "id": "d73579c6-5dbd-4a1e-ab6c-436a3cf84b9d",
   "metadata": {},
   "outputs": [],
   "source": []
  },
  {
   "cell_type": "markdown",
   "id": "6259b3e9-ef46-4a6c-9d11-93750a979c2d",
   "metadata": {},
   "source": [
    "# Top 50 Midfield"
   ]
  },
  {
   "cell_type": "code",
   "execution_count": null,
   "id": "cedd9f29-2605-416f-98e1-986983e914af",
   "metadata": {},
   "outputs": [],
   "source": [
    "df[df.Position == \"Midtbane\"].sort_values(\"Total Points\",ascending=False).head(50)"
   ]
  },
  {
   "cell_type": "code",
   "execution_count": null,
   "id": "b48dd87b-937a-48e3-aa41-fe995b5deccf",
   "metadata": {},
   "outputs": [],
   "source": []
  },
  {
   "cell_type": "markdown",
   "id": "c043cdc3-6e78-4d77-a4a9-907a0784f2e3",
   "metadata": {},
   "source": [
    "# Top 50 Forwards"
   ]
  },
  {
   "cell_type": "code",
   "execution_count": null,
   "id": "b3c9ea87-41a8-4482-9c44-8e472dfb5cc5",
   "metadata": {},
   "outputs": [],
   "source": [
    "df[df.Position == \"Angrep\"].sort_values(\"Total Points\",ascending=False).head(50)"
   ]
  },
  {
   "cell_type": "markdown",
   "id": "98e12d42-d06b-476b-a7cb-945c35ff1e25",
   "metadata": {},
   "source": [
    "# Calculate Points-Per-Million (PPM)"
   ]
  },
  {
   "cell_type": "code",
   "execution_count": null,
   "id": "1848ffa8-3a57-46b6-8847-abadcb462268",
   "metadata": {},
   "outputs": [],
   "source": [
    "df[\"PPM\"] = df[\"Total Points\"]/(df[\"Price\"]*12)"
   ]
  },
  {
   "cell_type": "markdown",
   "id": "f409ef1b-5d36-445e-af37-cd7f63167d20",
   "metadata": {},
   "source": [
    "# Value Top 50"
   ]
  },
  {
   "cell_type": "code",
   "execution_count": null,
   "id": "a97a09c7-71df-4502-85b3-1157473d3e23",
   "metadata": {},
   "outputs": [],
   "source": [
    "df.sort_values(\"PPM\", ascending=False).head(50)"
   ]
  },
  {
   "cell_type": "markdown",
   "id": "b1544197-9916-4cb9-a6a0-e3f8cea9bac9",
   "metadata": {},
   "source": [
    "# Value Top 50 GK"
   ]
  },
  {
   "cell_type": "code",
   "execution_count": null,
   "id": "f449ae1a-4698-404d-a8c3-a60c5fa81dc7",
   "metadata": {},
   "outputs": [],
   "source": [
    "df[df.Position == \"Keeper\"].sort_values(\"PPM\",ascending=False).head(50)"
   ]
  },
  {
   "cell_type": "code",
   "execution_count": null,
   "id": "4d66c063-b7ba-4091-971d-032876c1504c",
   "metadata": {},
   "outputs": [],
   "source": []
  },
  {
   "cell_type": "markdown",
   "id": "4d6d4435-8c34-42f6-b50c-1c245069a113",
   "metadata": {},
   "source": [
    "# Value Top 50 Defence"
   ]
  },
  {
   "cell_type": "code",
   "execution_count": null,
   "id": "bec9dacc-65b6-4fbd-bb87-fb1866014417",
   "metadata": {},
   "outputs": [],
   "source": [
    "df[df.Position == \"Forsvar\"].sort_values(\"PPM\",ascending=False).head(50)"
   ]
  },
  {
   "cell_type": "code",
   "execution_count": null,
   "id": "82069187-57fa-4cdc-976a-68b54e688f18",
   "metadata": {},
   "outputs": [],
   "source": []
  },
  {
   "cell_type": "markdown",
   "id": "e3f08008-8813-4869-a3c6-4aea8cfe90ba",
   "metadata": {},
   "source": [
    "# Value Top 50 Midfield"
   ]
  },
  {
   "cell_type": "code",
   "execution_count": null,
   "id": "066219fc-b582-4b85-8dab-5dbaf6b4ba40",
   "metadata": {},
   "outputs": [],
   "source": [
    "df[df.Position == \"Midtbane\"].sort_values(\"PPM\",ascending=False).head(50)"
   ]
  },
  {
   "cell_type": "code",
   "execution_count": null,
   "id": "0dbdd8f6-f54c-4a42-8638-b2c739b1ef8f",
   "metadata": {},
   "outputs": [],
   "source": []
  },
  {
   "cell_type": "markdown",
   "id": "6dcde223-5744-421e-858d-4e5c27b025a7",
   "metadata": {},
   "source": [
    "# Value Top 50 Forwards"
   ]
  },
  {
   "cell_type": "code",
   "execution_count": null,
   "id": "7578aa20-d159-46df-91aa-516a482b6e9f",
   "metadata": {},
   "outputs": [],
   "source": [
    "df[df.Position == \"Angrep\"].sort_values(\"PPM\",ascending=False).head(50)"
   ]
  },
  {
   "cell_type": "markdown",
   "id": "0bef2753-3d9b-4d95-8224-9f9419d959c1",
   "metadata": {},
   "source": [
    "# Out of position"
   ]
  },
  {
   "cell_type": "code",
   "execution_count": null,
   "id": "727bb773-62ad-4076-b3ed-5560906ffa6e",
   "metadata": {},
   "outputs": [],
   "source": [
    "position_mapper = { \"G\": \"Keeper\", \"D\": \"Forsvar\", \"M\": \"Midtbane\", \"F\": \"Angrep\"}"
   ]
  },
  {
   "cell_type": "code",
   "execution_count": null,
   "id": "ccf38f2a-5ce1-4ac9-9366-834fd515d8bf",
   "metadata": {},
   "outputs": [],
   "source": [
    "df[df.Pos.map(position_mapper) != df.Position].dropna()"
   ]
  },
  {
   "cell_type": "markdown",
   "id": "355a4766-c17e-439a-a88b-4e9f4be1abdd",
   "metadata": {},
   "source": [
    "There is clearly no outstanding picks, and Davies at Sheffield United is mismatched, need a way to figure out duplicates."
   ]
  },
  {
   "cell_type": "code",
   "execution_count": null,
   "id": "b083cb2a-47bf-469d-95e5-c5b4af1d26d8",
   "metadata": {},
   "outputs": [],
   "source": []
  }
 ],
 "metadata": {
  "kernelspec": {
   "display_name": "Python 3 (ipykernel)",
   "language": "python",
   "name": "python3"
  },
  "language_info": {
   "codemirror_mode": {
    "name": "ipython",
    "version": 3
   },
   "file_extension": ".py",
   "mimetype": "text/x-python",
   "name": "python",
   "nbconvert_exporter": "python",
   "pygments_lexer": "ipython3",
   "version": "3.12.1"
  }
 },
 "nbformat": 4,
 "nbformat_minor": 5
}
